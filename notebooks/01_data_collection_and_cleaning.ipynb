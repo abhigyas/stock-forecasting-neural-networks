{
 "cells": [
  {
   "cell_type": "markdown",
   "metadata": {},
   "source": [
    "# 01 - Data Collection and Cleaning"
   ]
  },
  {
   "cell_type": "markdown",
   "metadata": {},
   "source": [
    "## Purpose\n",
    "Download raw stock data using yfinance and save backups to data/raw/"
   ]
  },
  {
   "cell_type": "markdown",
   "metadata": {},
   "source": [
    "## Code"
   ]
  },
  {
   "cell_type": "code",
   "execution_count": null,
   "metadata": {},
   "outputs": [
    {
     "name": "stdout",
     "output_type": "stream",
     "text": [
      "YF.download() has changed argument auto_adjust default to True\n"
     ]
    },
    {
     "name": "stderr",
     "output_type": "stream",
     "text": [
      "[*********************100%***********************]  1 of 1 completed\n",
      "[*********************100%***********************]  1 of 1 completed\n"
     ]
    },
    {
     "name": "stdout",
     "output_type": "stream",
     "text": [
      "AAPL saved.\n",
      "MSFT saved.\n"
     ]
    },
    {
     "name": "stderr",
     "output_type": "stream",
     "text": [
      "[*********************100%***********************]  1 of 1 completed\n"
     ]
    },
    {
     "name": "stdout",
     "output_type": "stream",
     "text": [
      "JPM saved.\n"
     ]
    },
    {
     "name": "stderr",
     "output_type": "stream",
     "text": [
      "[*********************100%***********************]  1 of 1 completed\n"
     ]
    },
    {
     "name": "stdout",
     "output_type": "stream",
     "text": [
      "BAC saved.\n"
     ]
    },
    {
     "name": "stderr",
     "output_type": "stream",
     "text": [
      "[*********************100%***********************]  1 of 1 completed\n"
     ]
    },
    {
     "name": "stdout",
     "output_type": "stream",
     "text": [
      "XOM saved.\n"
     ]
    },
    {
     "name": "stderr",
     "output_type": "stream",
     "text": [
      "[*********************100%***********************]  1 of 1 completed"
     ]
    },
    {
     "name": "stdout",
     "output_type": "stream",
     "text": [
      "CVX saved.\n"
     ]
    },
    {
     "name": "stderr",
     "output_type": "stream",
     "text": [
      "\n"
     ]
    }
   ],
   "source": [
    "import pandas as pd  # For data manipulation and analysis\n",
    "import os  # For file system operations like creating directories\n",
    "\n",
    "def generate_features(df):\n",
    "    \"\"\"\n",
    "    Generate technical indicators and features from raw price data.\n",
    "    \n",
    "    Parameters:\n",
    "    -----------\n",
    "    df : pandas.DataFrame\n",
    "        Raw stock data with at least 'Close' price column\n",
    "        \n",
    "    Returns:\n",
    "    --------\n",
    "    pandas.DataFrame\n",
    "        Processed dataframe with additional technical features\n",
    "    \"\"\"\n",
    "    df = df.copy()  # Create a copy to avoid modifying the original dataframe\n",
    "    \n",
    "    # Convert 'Close' column to numeric type\n",
    "    # errors='coerce' will convert non-convertible values to NaN instead of raising an error\n",
    "    df['Close'] = pd.to_numeric(df['Close'], errors='coerce')\n",
    "    \n",
    "    # Calculate daily returns (percentage change from previous day)\n",
    "    # fill_method=None avoids using forward/backward filling which could leak future data\n",
    "    df['Return'] = df['Close'].pct_change(fill_method=None)\n",
    "    \n",
    "    # Add lagged returns to capture time-series autocorrelation patterns\n",
    "    # Lag_1 = previous day's return, Lag_2 = return from two days ago\n",
    "    # These features help the model recognize recent market patterns\n",
    "    df['Lag_1'] = df['Return'].shift(1)  # Shift values down by 1 row (1 day lag)\n",
    "    df['Lag_2'] = df['Return'].shift(2)  # Shift values down by 2 rows (2 day lag)\n",
    "    \n",
    "    # Calculate Simple Moving Averages (SMA) for trend identification\n",
    "    # SMA_5 = 5-day moving average (short-term trend)\n",
    "    # SMA_10 = 10-day moving average (medium-term trend)\n",
    "    df['SMA_5'] = df['Close'].rolling(window=5).mean()  # Average of last 5 days\n",
    "    df['SMA_10'] = df['Close'].rolling(window=10).mean()  # Average of last 10 days\n",
    "    \n",
    "    # Calculate volatility as standard deviation of returns over 10-day window\n",
    "    # Higher values indicate more market uncertainty and price fluctuation\n",
    "    df['Volatility'] = df['Return'].rolling(window=10).std()\n",
    "    \n",
    "    # Remove rows with NaN values resulting from calculations requiring history\n",
    "    # This ensures all data points have complete feature information\n",
    "    return df.dropna()\n",
    "\n",
    "# Create directory for storing processed data files if it doesn't exist\n",
    "os.makedirs('../data/processed', exist_ok=True)\n",
    "\n",
    "# List of stock tickers from different market sectors to process\n",
    "tickers = ['AAPL', 'MSFT', 'JPM', 'BAC', 'XOM', 'CVX']  # Tech, Banking, and Energy sectors\n",
    "\n",
    "# Process each ticker file individually\n",
    "for ticker in tickers:\n",
    "    # Read raw data from CSV file with dates as index\n",
    "    df = pd.read_csv(f'../data/raw/{ticker}_raw.csv', index_col=0, parse_dates=True)\n",
    "    \n",
    "    # Ensure the index column is named 'Date' for consistency\n",
    "    df.index.name = 'Date'\n",
    "    \n",
    "    # Generate technical features for this ticker\n",
    "    processed = generate_features(df)\n",
    "    \n",
    "    # Save the processed data to CSV in the processed directory\n",
    "    processed.to_csv(f'../data/processed/{ticker}_processed.csv')\n",
    "    \n",
    "    # Print confirmation message\n",
    "    print(f\"{ticker} processed.\")"
   ]
  }
 ],
 "metadata": {
  "kernelspec": {
   "display_name": ".venv",
   "language": "python",
   "name": "python3"
  },
  "language_info": {
   "codemirror_mode": {
    "name": "ipython",
    "version": 3
   },
   "file_extension": ".py",
   "mimetype": "text/x-python",
   "name": "python",
   "nbconvert_exporter": "python",
   "pygments_lexer": "ipython3",
   "version": "3.11.0"
  }
 },
 "nbformat": 4,
 "nbformat_minor": 2
}
