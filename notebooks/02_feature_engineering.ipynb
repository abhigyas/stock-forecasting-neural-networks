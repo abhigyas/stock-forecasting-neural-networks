{
 "cells": [
  {
   "cell_type": "markdown",
   "metadata": {},
   "source": [
    "# 02 - Feature Engineering"
   ]
  },
  {
   "cell_type": "markdown",
   "metadata": {},
   "source": [
    "## Purpose\n",
    "Generate time series features such as lagged returns, SMA, and volatility"
   ]
  },
  {
   "cell_type": "markdown",
   "metadata": {},
   "source": [
    "## Code"
   ]
  },
  {
   "cell_type": "code",
   "execution_count": null,
   "metadata": {},
   "outputs": [],
   "source": [
    "import pandas as pd\n",
    "import numpy as np\n",
    "import os\n",
    "\n",
    "os.makedirs('../data/processed', exist_ok=True)\n",
    "\n",
    "def generate_features(df):\n",
    "    df['Return'] = df['Adj Close'].pct_change()\n",
    "    df['Lag_1'] = df['Return'].shift(1)\n",
    "    df['Lag_2'] = df['Return'].shift(2)\n",
    "    df['SMA_5'] = df['Adj Close'].rolling(5).mean()\n",
    "    df['SMA_10'] = df['Adj Close'].rolling(10).mean()\n",
    "    df['Volatility'] = df['Return'].rolling(10).std()\n",
    "    df = df.dropna()\n",
    "    return df\n",
    "\n",
    "for ticker in ['AAPL', 'MSFT', 'JPM', 'XOM']:\n",
    "    df = pd.read_csv(f'../data/raw/{ticker}_raw.csv', index_col='Date', parse_dates=True)\n",
    "    processed = generate_features(df)\n",
    "    processed.to_csv(f'../data/processed/{ticker}_processed.csv')"
   ]
  }
 ],
 "metadata": {
  "language_info": {
   "name": "python"
  }
 },
 "nbformat": 4,
 "nbformat_minor": 2
}
