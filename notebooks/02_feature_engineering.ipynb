{
 "cells": [
  {
   "cell_type": "markdown",
   "metadata": {},
   "source": [
    "# 02 - Feature Engineering"
   ]
  },
  {
   "cell_type": "markdown",
   "metadata": {},
   "source": [
    "## Purpose\n",
    "Generate time series features such as lagged returns, SMA, and volatility"
   ]
  },
  {
   "cell_type": "markdown",
   "metadata": {},
   "source": [
    "## Code"
   ]
  },
  {
   "cell_type": "code",
   "execution_count": 2,
   "metadata": {},
   "outputs": [
    {
     "name": "stderr",
     "output_type": "stream",
     "text": [
      "/var/folders/t1/dn02mwbj2470p7qc91_h3c1w0000gn/T/ipykernel_97950/3209643988.py:19: UserWarning: Could not infer format, so each element will be parsed individually, falling back to `dateutil`. To ensure parsing is consistent and as-expected, please specify a format.\n",
      "  df = pd.read_csv(f'../data/raw/{ticker}_raw.csv', index_col=0, parse_dates=True)\n",
      "/var/folders/t1/dn02mwbj2470p7qc91_h3c1w0000gn/T/ipykernel_97950/3209643988.py:19: UserWarning: Could not infer format, so each element will be parsed individually, falling back to `dateutil`. To ensure parsing is consistent and as-expected, please specify a format.\n",
      "  df = pd.read_csv(f'../data/raw/{ticker}_raw.csv', index_col=0, parse_dates=True)\n",
      "/var/folders/t1/dn02mwbj2470p7qc91_h3c1w0000gn/T/ipykernel_97950/3209643988.py:19: UserWarning: Could not infer format, so each element will be parsed individually, falling back to `dateutil`. To ensure parsing is consistent and as-expected, please specify a format.\n",
      "  df = pd.read_csv(f'../data/raw/{ticker}_raw.csv', index_col=0, parse_dates=True)\n",
      "/var/folders/t1/dn02mwbj2470p7qc91_h3c1w0000gn/T/ipykernel_97950/3209643988.py:19: UserWarning: Could not infer format, so each element will be parsed individually, falling back to `dateutil`. To ensure parsing is consistent and as-expected, please specify a format.\n",
      "  df = pd.read_csv(f'../data/raw/{ticker}_raw.csv', index_col=0, parse_dates=True)\n",
      "/var/folders/t1/dn02mwbj2470p7qc91_h3c1w0000gn/T/ipykernel_97950/3209643988.py:19: UserWarning: Could not infer format, so each element will be parsed individually, falling back to `dateutil`. To ensure parsing is consistent and as-expected, please specify a format.\n",
      "  df = pd.read_csv(f'../data/raw/{ticker}_raw.csv', index_col=0, parse_dates=True)\n"
     ]
    },
    {
     "name": "stdout",
     "output_type": "stream",
     "text": [
      "AAPL processed.\n",
      "MSFT processed.\n",
      "JPM processed.\n",
      "BAC processed.\n",
      "XOM processed.\n",
      "CVX processed.\n"
     ]
    },
    {
     "name": "stderr",
     "output_type": "stream",
     "text": [
      "/var/folders/t1/dn02mwbj2470p7qc91_h3c1w0000gn/T/ipykernel_97950/3209643988.py:19: UserWarning: Could not infer format, so each element will be parsed individually, falling back to `dateutil`. To ensure parsing is consistent and as-expected, please specify a format.\n",
      "  df = pd.read_csv(f'../data/raw/{ticker}_raw.csv', index_col=0, parse_dates=True)\n"
     ]
    }
   ],
   "source": [
    "import pandas as pd\n",
    "import os\n",
    "\n",
    "def generate_features(df):\n",
    "    df = df.copy()\n",
    "    df['Close'] = pd.to_numeric(df['Close'], errors='coerce')  # Fix data type\n",
    "    df['Return'] = df['Close'].pct_change(fill_method=None)   # Avoid future warning\n",
    "    df['Lag_1'] = df['Return'].shift(1)\n",
    "    df['Lag_2'] = df['Return'].shift(2)\n",
    "    df['SMA_5'] = df['Close'].rolling(window=5).mean()\n",
    "    df['SMA_10'] = df['Close'].rolling(window=10).mean()\n",
    "    df['Volatility'] = df['Return'].rolling(window=10).std()\n",
    "    return df.dropna()\n",
    "\n",
    "os.makedirs('../data/processed', exist_ok=True)\n",
    "tickers = ['AAPL', 'MSFT', 'JPM', 'BAC', 'XOM', 'CVX']\n",
    "\n",
    "for ticker in tickers:\n",
    "    df = pd.read_csv(f'../data/raw/{ticker}_raw.csv', index_col=0, parse_dates=True)\n",
    "    df.index.name = 'Date'\n",
    "    processed = generate_features(df)\n",
    "    processed.to_csv(f'../data/processed/{ticker}_processed.csv')\n",
    "    print(f\"{ticker} processed.\")\n"
   ]
  }
 ],
 "metadata": {
  "kernelspec": {
   "display_name": "Python 3",
   "language": "python",
   "name": "python3"
  },
  "language_info": {
   "codemirror_mode": {
    "name": "ipython",
    "version": 3
   },
   "file_extension": ".py",
   "mimetype": "text/x-python",
   "name": "python",
   "nbconvert_exporter": "python",
   "pygments_lexer": "ipython3",
   "version": "3.12.4"
  }
 },
 "nbformat": 4,
 "nbformat_minor": 2
}
